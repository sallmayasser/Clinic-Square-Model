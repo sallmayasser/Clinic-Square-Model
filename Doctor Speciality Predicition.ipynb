{
 "cells": [
  {
   "cell_type": "code",
   "execution_count": 1,
   "metadata": {
    "_cell_guid": "b1076dfc-b9ad-4769-8c92-a6c4dae69d19",
    "_uuid": "8f2839f25d086af736a60e9eeb907d3b93b6e0e5",
    "execution": {
     "iopub.execute_input": "2024-12-21T14:17:19.828081Z",
     "iopub.status.busy": "2024-12-21T14:17:19.827621Z",
     "iopub.status.idle": "2024-12-21T14:17:19.833983Z",
     "shell.execute_reply": "2024-12-21T14:17:19.832625Z",
     "shell.execute_reply.started": "2024-12-21T14:17:19.828048Z"
    },
    "trusted": true
   },
   "outputs": [
    {
     "ename": "ModuleNotFoundError",
     "evalue": "No module named 'pandas'",
     "output_type": "error",
     "traceback": [
      "\u001b[1;31m---------------------------------------------------------------------------\u001b[0m",
      "\u001b[1;31mModuleNotFoundError\u001b[0m                       Traceback (most recent call last)",
      "Cell \u001b[1;32mIn[1], line 1\u001b[0m\n\u001b[1;32m----> 1\u001b[0m \u001b[38;5;28;01mimport\u001b[39;00m \u001b[38;5;21;01mpandas\u001b[39;00m \u001b[38;5;28;01mas\u001b[39;00m \u001b[38;5;21;01mpd\u001b[39;00m\n\u001b[0;32m      2\u001b[0m \u001b[38;5;28;01mimport\u001b[39;00m \u001b[38;5;21;01mnumpy\u001b[39;00m \u001b[38;5;28;01mas\u001b[39;00m \u001b[38;5;21;01mnp\u001b[39;00m\n\u001b[0;32m      3\u001b[0m \u001b[38;5;28;01mimport\u001b[39;00m \u001b[38;5;21;01mseaborn\u001b[39;00m \u001b[38;5;28;01mas\u001b[39;00m \u001b[38;5;21;01msns\u001b[39;00m\n",
      "\u001b[1;31mModuleNotFoundError\u001b[0m: No module named 'pandas'"
     ]
    }
   ],
   "source": [
    "import pandas as pd\n",
    "import numpy as np\n",
    "import seaborn as sns\n",
    "import matplotlib.pyplot as plt\n",
    "from sklearn.model_selection import train_test_split\n",
    "from sklearn.linear_model import LogisticRegression\n",
    "from sklearn.metrics import accuracy_score"
   ]
  },
  {
   "cell_type": "code",
   "execution_count": 119,
   "metadata": {
    "execution": {
     "iopub.execute_input": "2024-12-21T14:17:19.849153Z",
     "iopub.status.busy": "2024-12-21T14:17:19.848777Z",
     "iopub.status.idle": "2024-12-21T14:17:19.871977Z",
     "shell.execute_reply": "2024-12-21T14:17:19.870969Z",
     "shell.execute_reply.started": "2024-12-21T14:17:19.849127Z"
    },
    "trusted": true
   },
   "outputs": [],
   "source": [
    "data = pd.read_csv('/kaggle/input/doctor-specialist-recommendation-system/Original_Dataset.csv')"
   ]
  },
  {
   "cell_type": "code",
   "execution_count": 120,
   "metadata": {
    "execution": {
     "iopub.execute_input": "2024-12-21T14:17:19.882193Z",
     "iopub.status.busy": "2024-12-21T14:17:19.881205Z",
     "iopub.status.idle": "2024-12-21T14:17:19.900603Z",
     "shell.execute_reply": "2024-12-21T14:17:19.899283Z",
     "shell.execute_reply.started": "2024-12-21T14:17:19.882158Z"
    },
    "trusted": true
   },
   "outputs": [
    {
     "data": {
      "text/html": [
       "<div>\n",
       "<style scoped>\n",
       "    .dataframe tbody tr th:only-of-type {\n",
       "        vertical-align: middle;\n",
       "    }\n",
       "\n",
       "    .dataframe tbody tr th {\n",
       "        vertical-align: top;\n",
       "    }\n",
       "\n",
       "    .dataframe thead th {\n",
       "        text-align: right;\n",
       "    }\n",
       "</style>\n",
       "<table border=\"1\" class=\"dataframe\">\n",
       "  <thead>\n",
       "    <tr style=\"text-align: right;\">\n",
       "      <th></th>\n",
       "      <th>Disease</th>\n",
       "      <th>Symptom_1</th>\n",
       "      <th>Symptom_2</th>\n",
       "      <th>Symptom_3</th>\n",
       "      <th>Symptom_4</th>\n",
       "      <th>Symptom_5</th>\n",
       "      <th>Symptom_6</th>\n",
       "      <th>Symptom_7</th>\n",
       "      <th>Symptom_8</th>\n",
       "      <th>Symptom_9</th>\n",
       "      <th>Symptom_10</th>\n",
       "      <th>Symptom_11</th>\n",
       "      <th>Symptom_12</th>\n",
       "      <th>Symptom_13</th>\n",
       "      <th>Symptom_14</th>\n",
       "      <th>Symptom_15</th>\n",
       "      <th>Symptom_16</th>\n",
       "      <th>Symptom_17</th>\n",
       "    </tr>\n",
       "  </thead>\n",
       "  <tbody>\n",
       "    <tr>\n",
       "      <th>0</th>\n",
       "      <td>Fungal infection</td>\n",
       "      <td>itching</td>\n",
       "      <td>skin_rash</td>\n",
       "      <td>nodal_skin_eruptions</td>\n",
       "      <td>dischromic _patches</td>\n",
       "      <td>NaN</td>\n",
       "      <td>NaN</td>\n",
       "      <td>NaN</td>\n",
       "      <td>NaN</td>\n",
       "      <td>NaN</td>\n",
       "      <td>NaN</td>\n",
       "      <td>NaN</td>\n",
       "      <td>NaN</td>\n",
       "      <td>NaN</td>\n",
       "      <td>NaN</td>\n",
       "      <td>NaN</td>\n",
       "      <td>NaN</td>\n",
       "      <td>NaN</td>\n",
       "    </tr>\n",
       "    <tr>\n",
       "      <th>1</th>\n",
       "      <td>Fungal infection</td>\n",
       "      <td>skin_rash</td>\n",
       "      <td>nodal_skin_eruptions</td>\n",
       "      <td>dischromic _patches</td>\n",
       "      <td>NaN</td>\n",
       "      <td>NaN</td>\n",
       "      <td>NaN</td>\n",
       "      <td>NaN</td>\n",
       "      <td>NaN</td>\n",
       "      <td>NaN</td>\n",
       "      <td>NaN</td>\n",
       "      <td>NaN</td>\n",
       "      <td>NaN</td>\n",
       "      <td>NaN</td>\n",
       "      <td>NaN</td>\n",
       "      <td>NaN</td>\n",
       "      <td>NaN</td>\n",
       "      <td>NaN</td>\n",
       "    </tr>\n",
       "    <tr>\n",
       "      <th>2</th>\n",
       "      <td>Fungal infection</td>\n",
       "      <td>itching</td>\n",
       "      <td>nodal_skin_eruptions</td>\n",
       "      <td>dischromic _patches</td>\n",
       "      <td>NaN</td>\n",
       "      <td>NaN</td>\n",
       "      <td>NaN</td>\n",
       "      <td>NaN</td>\n",
       "      <td>NaN</td>\n",
       "      <td>NaN</td>\n",
       "      <td>NaN</td>\n",
       "      <td>NaN</td>\n",
       "      <td>NaN</td>\n",
       "      <td>NaN</td>\n",
       "      <td>NaN</td>\n",
       "      <td>NaN</td>\n",
       "      <td>NaN</td>\n",
       "      <td>NaN</td>\n",
       "    </tr>\n",
       "    <tr>\n",
       "      <th>3</th>\n",
       "      <td>Fungal infection</td>\n",
       "      <td>itching</td>\n",
       "      <td>skin_rash</td>\n",
       "      <td>dischromic _patches</td>\n",
       "      <td>NaN</td>\n",
       "      <td>NaN</td>\n",
       "      <td>NaN</td>\n",
       "      <td>NaN</td>\n",
       "      <td>NaN</td>\n",
       "      <td>NaN</td>\n",
       "      <td>NaN</td>\n",
       "      <td>NaN</td>\n",
       "      <td>NaN</td>\n",
       "      <td>NaN</td>\n",
       "      <td>NaN</td>\n",
       "      <td>NaN</td>\n",
       "      <td>NaN</td>\n",
       "      <td>NaN</td>\n",
       "    </tr>\n",
       "    <tr>\n",
       "      <th>4</th>\n",
       "      <td>Fungal infection</td>\n",
       "      <td>itching</td>\n",
       "      <td>skin_rash</td>\n",
       "      <td>nodal_skin_eruptions</td>\n",
       "      <td>NaN</td>\n",
       "      <td>NaN</td>\n",
       "      <td>NaN</td>\n",
       "      <td>NaN</td>\n",
       "      <td>NaN</td>\n",
       "      <td>NaN</td>\n",
       "      <td>NaN</td>\n",
       "      <td>NaN</td>\n",
       "      <td>NaN</td>\n",
       "      <td>NaN</td>\n",
       "      <td>NaN</td>\n",
       "      <td>NaN</td>\n",
       "      <td>NaN</td>\n",
       "      <td>NaN</td>\n",
       "    </tr>\n",
       "  </tbody>\n",
       "</table>\n",
       "</div>"
      ],
      "text/plain": [
       "            Disease   Symptom_1              Symptom_2              Symptom_3  \\\n",
       "0  Fungal infection     itching              skin_rash   nodal_skin_eruptions   \n",
       "1  Fungal infection   skin_rash   nodal_skin_eruptions    dischromic _patches   \n",
       "2  Fungal infection     itching   nodal_skin_eruptions    dischromic _patches   \n",
       "3  Fungal infection     itching              skin_rash    dischromic _patches   \n",
       "4  Fungal infection     itching              skin_rash   nodal_skin_eruptions   \n",
       "\n",
       "              Symptom_4 Symptom_5 Symptom_6 Symptom_7 Symptom_8 Symptom_9  \\\n",
       "0   dischromic _patches       NaN       NaN       NaN       NaN       NaN   \n",
       "1                   NaN       NaN       NaN       NaN       NaN       NaN   \n",
       "2                   NaN       NaN       NaN       NaN       NaN       NaN   \n",
       "3                   NaN       NaN       NaN       NaN       NaN       NaN   \n",
       "4                   NaN       NaN       NaN       NaN       NaN       NaN   \n",
       "\n",
       "  Symptom_10 Symptom_11 Symptom_12 Symptom_13 Symptom_14 Symptom_15  \\\n",
       "0        NaN        NaN        NaN        NaN        NaN        NaN   \n",
       "1        NaN        NaN        NaN        NaN        NaN        NaN   \n",
       "2        NaN        NaN        NaN        NaN        NaN        NaN   \n",
       "3        NaN        NaN        NaN        NaN        NaN        NaN   \n",
       "4        NaN        NaN        NaN        NaN        NaN        NaN   \n",
       "\n",
       "  Symptom_16 Symptom_17  \n",
       "0        NaN        NaN  \n",
       "1        NaN        NaN  \n",
       "2        NaN        NaN  \n",
       "3        NaN        NaN  \n",
       "4        NaN        NaN  "
      ]
     },
     "execution_count": 120,
     "metadata": {},
     "output_type": "execute_result"
    }
   ],
   "source": [
    "data.head(5)"
   ]
  },
  {
   "cell_type": "code",
   "execution_count": 121,
   "metadata": {
    "execution": {
     "iopub.execute_input": "2024-12-21T14:17:19.906505Z",
     "iopub.status.busy": "2024-12-21T14:17:19.906092Z",
     "iopub.status.idle": "2024-12-21T14:17:19.926348Z",
     "shell.execute_reply": "2024-12-21T14:17:19.925205Z",
     "shell.execute_reply.started": "2024-12-21T14:17:19.906477Z"
    },
    "trusted": true
   },
   "outputs": [
    {
     "name": "stdout",
     "output_type": "stream",
     "text": [
      "<class 'pandas.core.frame.DataFrame'>\n",
      "RangeIndex: 4920 entries, 0 to 4919\n",
      "Data columns (total 18 columns):\n",
      " #   Column      Non-Null Count  Dtype \n",
      "---  ------      --------------  ----- \n",
      " 0   Disease     4920 non-null   object\n",
      " 1   Symptom_1   4920 non-null   object\n",
      " 2   Symptom_2   4920 non-null   object\n",
      " 3   Symptom_3   4920 non-null   object\n",
      " 4   Symptom_4   4572 non-null   object\n",
      " 5   Symptom_5   3714 non-null   object\n",
      " 6   Symptom_6   2934 non-null   object\n",
      " 7   Symptom_7   2268 non-null   object\n",
      " 8   Symptom_8   1944 non-null   object\n",
      " 9   Symptom_9   1692 non-null   object\n",
      " 10  Symptom_10  1512 non-null   object\n",
      " 11  Symptom_11  1194 non-null   object\n",
      " 12  Symptom_12  744 non-null    object\n",
      " 13  Symptom_13  504 non-null    object\n",
      " 14  Symptom_14  306 non-null    object\n",
      " 15  Symptom_15  240 non-null    object\n",
      " 16  Symptom_16  192 non-null    object\n",
      " 17  Symptom_17  72 non-null     object\n",
      "dtypes: object(18)\n",
      "memory usage: 692.0+ KB\n"
     ]
    }
   ],
   "source": [
    "data.info()"
   ]
  },
  {
   "cell_type": "markdown",
   "metadata": {},
   "source": [
    "# Data Preprocessing"
   ]
  },
  {
   "cell_type": "markdown",
   "metadata": {},
   "source": [
    "**extracts the values, and assigns the appropriate subset to the \"Symptoms\" column.**"
   ]
  },
  {
   "cell_type": "code",
   "execution_count": 122,
   "metadata": {
    "execution": {
     "iopub.execute_input": "2024-12-21T14:17:19.928426Z",
     "iopub.status.busy": "2024-12-21T14:17:19.928078Z",
     "iopub.status.idle": "2024-12-21T14:17:20.088762Z",
     "shell.execute_reply": "2024-12-21T14:17:20.087495Z",
     "shell.execute_reply.started": "2024-12-21T14:17:19.928380Z"
    },
    "trusted": true
   },
   "outputs": [],
   "source": [
    "symptoms = []\n",
    "\n",
    "for i in range(len(data)):\n",
    "    value = data.iloc[i].values.tolist()\n",
    "    if 0 in value:\n",
    "        symptoms.append(value[1:value.index(0)])\n",
    "    else:\n",
    "        symptoms.append(value[1:])\n",
    "\n",
    "data[\"Symptoms\"] = symptoms"
   ]
  },
  {
   "cell_type": "code",
   "execution_count": 123,
   "metadata": {
    "execution": {
     "iopub.execute_input": "2024-12-21T14:17:20.091288Z",
     "iopub.status.busy": "2024-12-21T14:17:20.090848Z",
     "iopub.status.idle": "2024-12-21T14:17:20.114630Z",
     "shell.execute_reply": "2024-12-21T14:17:20.113321Z",
     "shell.execute_reply.started": "2024-12-21T14:17:20.091253Z"
    },
    "trusted": true
   },
   "outputs": [
    {
     "data": {
      "text/html": [
       "<div>\n",
       "<style scoped>\n",
       "    .dataframe tbody tr th:only-of-type {\n",
       "        vertical-align: middle;\n",
       "    }\n",
       "\n",
       "    .dataframe tbody tr th {\n",
       "        vertical-align: top;\n",
       "    }\n",
       "\n",
       "    .dataframe thead th {\n",
       "        text-align: right;\n",
       "    }\n",
       "</style>\n",
       "<table border=\"1\" class=\"dataframe\">\n",
       "  <thead>\n",
       "    <tr style=\"text-align: right;\">\n",
       "      <th></th>\n",
       "      <th>Disease</th>\n",
       "      <th>Symptom_1</th>\n",
       "      <th>Symptom_2</th>\n",
       "      <th>Symptom_3</th>\n",
       "      <th>Symptom_4</th>\n",
       "      <th>Symptom_5</th>\n",
       "      <th>Symptom_6</th>\n",
       "      <th>Symptom_7</th>\n",
       "      <th>Symptom_8</th>\n",
       "      <th>Symptom_9</th>\n",
       "      <th>Symptom_10</th>\n",
       "      <th>Symptom_11</th>\n",
       "      <th>Symptom_12</th>\n",
       "      <th>Symptom_13</th>\n",
       "      <th>Symptom_14</th>\n",
       "      <th>Symptom_15</th>\n",
       "      <th>Symptom_16</th>\n",
       "      <th>Symptom_17</th>\n",
       "      <th>Symptoms</th>\n",
       "    </tr>\n",
       "  </thead>\n",
       "  <tbody>\n",
       "    <tr>\n",
       "      <th>0</th>\n",
       "      <td>Fungal infection</td>\n",
       "      <td>itching</td>\n",
       "      <td>skin_rash</td>\n",
       "      <td>nodal_skin_eruptions</td>\n",
       "      <td>dischromic _patches</td>\n",
       "      <td>NaN</td>\n",
       "      <td>NaN</td>\n",
       "      <td>NaN</td>\n",
       "      <td>NaN</td>\n",
       "      <td>NaN</td>\n",
       "      <td>NaN</td>\n",
       "      <td>NaN</td>\n",
       "      <td>NaN</td>\n",
       "      <td>NaN</td>\n",
       "      <td>NaN</td>\n",
       "      <td>NaN</td>\n",
       "      <td>NaN</td>\n",
       "      <td>NaN</td>\n",
       "      <td>[itching,  skin_rash,  nodal_skin_eruptions,  ...</td>\n",
       "    </tr>\n",
       "    <tr>\n",
       "      <th>1</th>\n",
       "      <td>Fungal infection</td>\n",
       "      <td>skin_rash</td>\n",
       "      <td>nodal_skin_eruptions</td>\n",
       "      <td>dischromic _patches</td>\n",
       "      <td>NaN</td>\n",
       "      <td>NaN</td>\n",
       "      <td>NaN</td>\n",
       "      <td>NaN</td>\n",
       "      <td>NaN</td>\n",
       "      <td>NaN</td>\n",
       "      <td>NaN</td>\n",
       "      <td>NaN</td>\n",
       "      <td>NaN</td>\n",
       "      <td>NaN</td>\n",
       "      <td>NaN</td>\n",
       "      <td>NaN</td>\n",
       "      <td>NaN</td>\n",
       "      <td>NaN</td>\n",
       "      <td>[ skin_rash,  nodal_skin_eruptions,  dischromi...</td>\n",
       "    </tr>\n",
       "    <tr>\n",
       "      <th>2</th>\n",
       "      <td>Fungal infection</td>\n",
       "      <td>itching</td>\n",
       "      <td>nodal_skin_eruptions</td>\n",
       "      <td>dischromic _patches</td>\n",
       "      <td>NaN</td>\n",
       "      <td>NaN</td>\n",
       "      <td>NaN</td>\n",
       "      <td>NaN</td>\n",
       "      <td>NaN</td>\n",
       "      <td>NaN</td>\n",
       "      <td>NaN</td>\n",
       "      <td>NaN</td>\n",
       "      <td>NaN</td>\n",
       "      <td>NaN</td>\n",
       "      <td>NaN</td>\n",
       "      <td>NaN</td>\n",
       "      <td>NaN</td>\n",
       "      <td>NaN</td>\n",
       "      <td>[itching,  nodal_skin_eruptions,  dischromic _...</td>\n",
       "    </tr>\n",
       "    <tr>\n",
       "      <th>3</th>\n",
       "      <td>Fungal infection</td>\n",
       "      <td>itching</td>\n",
       "      <td>skin_rash</td>\n",
       "      <td>dischromic _patches</td>\n",
       "      <td>NaN</td>\n",
       "      <td>NaN</td>\n",
       "      <td>NaN</td>\n",
       "      <td>NaN</td>\n",
       "      <td>NaN</td>\n",
       "      <td>NaN</td>\n",
       "      <td>NaN</td>\n",
       "      <td>NaN</td>\n",
       "      <td>NaN</td>\n",
       "      <td>NaN</td>\n",
       "      <td>NaN</td>\n",
       "      <td>NaN</td>\n",
       "      <td>NaN</td>\n",
       "      <td>NaN</td>\n",
       "      <td>[itching,  skin_rash,  dischromic _patches, na...</td>\n",
       "    </tr>\n",
       "    <tr>\n",
       "      <th>4</th>\n",
       "      <td>Fungal infection</td>\n",
       "      <td>itching</td>\n",
       "      <td>skin_rash</td>\n",
       "      <td>nodal_skin_eruptions</td>\n",
       "      <td>NaN</td>\n",
       "      <td>NaN</td>\n",
       "      <td>NaN</td>\n",
       "      <td>NaN</td>\n",
       "      <td>NaN</td>\n",
       "      <td>NaN</td>\n",
       "      <td>NaN</td>\n",
       "      <td>NaN</td>\n",
       "      <td>NaN</td>\n",
       "      <td>NaN</td>\n",
       "      <td>NaN</td>\n",
       "      <td>NaN</td>\n",
       "      <td>NaN</td>\n",
       "      <td>NaN</td>\n",
       "      <td>[itching,  skin_rash,  nodal_skin_eruptions, n...</td>\n",
       "    </tr>\n",
       "  </tbody>\n",
       "</table>\n",
       "</div>"
      ],
      "text/plain": [
       "            Disease   Symptom_1              Symptom_2              Symptom_3  \\\n",
       "0  Fungal infection     itching              skin_rash   nodal_skin_eruptions   \n",
       "1  Fungal infection   skin_rash   nodal_skin_eruptions    dischromic _patches   \n",
       "2  Fungal infection     itching   nodal_skin_eruptions    dischromic _patches   \n",
       "3  Fungal infection     itching              skin_rash    dischromic _patches   \n",
       "4  Fungal infection     itching              skin_rash   nodal_skin_eruptions   \n",
       "\n",
       "              Symptom_4 Symptom_5 Symptom_6 Symptom_7 Symptom_8 Symptom_9  \\\n",
       "0   dischromic _patches       NaN       NaN       NaN       NaN       NaN   \n",
       "1                   NaN       NaN       NaN       NaN       NaN       NaN   \n",
       "2                   NaN       NaN       NaN       NaN       NaN       NaN   \n",
       "3                   NaN       NaN       NaN       NaN       NaN       NaN   \n",
       "4                   NaN       NaN       NaN       NaN       NaN       NaN   \n",
       "\n",
       "  Symptom_10 Symptom_11 Symptom_12 Symptom_13 Symptom_14 Symptom_15  \\\n",
       "0        NaN        NaN        NaN        NaN        NaN        NaN   \n",
       "1        NaN        NaN        NaN        NaN        NaN        NaN   \n",
       "2        NaN        NaN        NaN        NaN        NaN        NaN   \n",
       "3        NaN        NaN        NaN        NaN        NaN        NaN   \n",
       "4        NaN        NaN        NaN        NaN        NaN        NaN   \n",
       "\n",
       "  Symptom_16 Symptom_17                                           Symptoms  \n",
       "0        NaN        NaN  [itching,  skin_rash,  nodal_skin_eruptions,  ...  \n",
       "1        NaN        NaN  [ skin_rash,  nodal_skin_eruptions,  dischromi...  \n",
       "2        NaN        NaN  [itching,  nodal_skin_eruptions,  dischromic _...  \n",
       "3        NaN        NaN  [itching,  skin_rash,  dischromic _patches, na...  \n",
       "4        NaN        NaN  [itching,  skin_rash,  nodal_skin_eruptions, n...  "
      ]
     },
     "execution_count": 123,
     "metadata": {},
     "output_type": "execute_result"
    }
   ],
   "source": [
    "data.head(5)"
   ]
  },
  {
   "cell_type": "code",
   "execution_count": 124,
   "metadata": {
    "execution": {
     "iopub.execute_input": "2024-12-21T14:17:20.116475Z",
     "iopub.status.busy": "2024-12-21T14:17:20.116054Z",
     "iopub.status.idle": "2024-12-21T14:17:20.768582Z",
     "shell.execute_reply": "2024-12-21T14:17:20.767277Z",
     "shell.execute_reply.started": "2024-12-21T14:17:20.116439Z"
    },
    "trusted": true
   },
   "outputs": [
    {
     "name": "stdout",
     "output_type": "stream",
     "text": [
      "   itching  skin_rash  nodal_skin_eruptions  dischromic _patches  \\\n",
      "0        1          1                     1                    1   \n",
      "1        0          1                     1                    1   \n",
      "2        1          0                     1                    1   \n",
      "3        1          1                     0                    1   \n",
      "4        1          1                     1                    0   \n",
      "\n",
      "   continuous_sneezing  shivering  chills  watering_from_eyes  stomach_pain  \\\n",
      "0                    0          0       0                   0             0   \n",
      "1                    0          0       0                   0             0   \n",
      "2                    0          0       0                   0             0   \n",
      "3                    0          0       0                   0             0   \n",
      "4                    0          0       0                   0             0   \n",
      "\n",
      "   acidity  ...  foul_smell_of urine  continuous_feel_of_urine  skin_peeling  \\\n",
      "0        0  ...                    0                         0             0   \n",
      "1        0  ...                    0                         0             0   \n",
      "2        0  ...                    0                         0             0   \n",
      "3        0  ...                    0                         0             0   \n",
      "4        0  ...                    0                         0             0   \n",
      "\n",
      "   silver_like_dusting  small_dents_in_nails  inflammatory_nails  blister  \\\n",
      "0                    0                     0                   0        0   \n",
      "1                    0                     0                   0        0   \n",
      "2                    0                     0                   0        0   \n",
      "3                    0                     0                   0        0   \n",
      "4                    0                     0                   0        0   \n",
      "\n",
      "   red_sore_around_nose  yellow_crust_ooze           Disease  \n",
      "0                     0                  0  Fungal infection  \n",
      "1                     0                  0  Fungal infection  \n",
      "2                     0                  0  Fungal infection  \n",
      "3                     0                  0  Fungal infection  \n",
      "4                     0                  0  Fungal infection  \n",
      "\n",
      "[5 rows x 132 columns]\n",
      "Index(['itching', 'skin_rash', 'nodal_skin_eruptions', 'dischromic _patches',\n",
      "       'continuous_sneezing', 'shivering', 'chills', 'watering_from_eyes',\n",
      "       'stomach_pain', 'acidity',\n",
      "       ...\n",
      "       'foul_smell_of urine', 'continuous_feel_of_urine', 'skin_peeling',\n",
      "       'silver_like_dusting', 'small_dents_in_nails', 'inflammatory_nails',\n",
      "       'blister', 'red_sore_around_nose', 'yellow_crust_ooze', 'Disease'],\n",
      "      dtype='object', length=132)\n"
     ]
    }
   ],
   "source": [
    "import pandas as pd\n",
    "\n",
    "column_values = data[['Symptom_1', 'Symptom_2', 'Symptom_3', 'Symptom_4',\n",
    "       'Symptom_5', 'Symptom_6', 'Symptom_7', 'Symptom_8', 'Symptom_9',\n",
    "       'Symptom_10', 'Symptom_11', 'Symptom_12', 'Symptom_13', 'Symptom_14',\n",
    "       'Symptom_15', 'Symptom_16', 'Symptom_17']].values.ravel()\n",
    "\n",
    "symps = pd.unique(column_values).tolist()\n",
    "symps = [i for i in symps if str(i) != \"nan\"]\n",
    "\n",
    "# Creating a DataFrame with binary indicator columns for each symptom\n",
    "new_data = pd.DataFrame(0, columns=symps, index=data.index)\n",
    "new_data[\"Disease\"] = data[\"Disease\"]\n",
    "\n",
    "# Setting the binary indicator values\n",
    "for col in symps:\n",
    "    new_data[col] = data['Symptoms'].apply(lambda x: 1 if col in x else 0)\n",
    "new_data.columns=new_data.columns.str.strip()\n",
    "print(new_data.head())\n",
    "print(new_data.columns)"
   ]
  },
  {
   "cell_type": "markdown",
   "metadata": {},
   "source": [
    "# Training "
   ]
  },
  {
   "cell_type": "markdown",
   "metadata": {},
   "source": [
    "**Splitting the data into features (X) and target variable (y)**"
   ]
  },
  {
   "cell_type": "code",
   "execution_count": 125,
   "metadata": {
    "execution": {
     "iopub.execute_input": "2024-12-21T14:17:20.772092Z",
     "iopub.status.busy": "2024-12-21T14:17:20.771502Z",
     "iopub.status.idle": "2024-12-21T14:17:20.786965Z",
     "shell.execute_reply": "2024-12-21T14:17:20.785485Z",
     "shell.execute_reply.started": "2024-12-21T14:17:20.772051Z"
    },
    "trusted": true
   },
   "outputs": [],
   "source": [
    "X = new_data.drop('Disease', axis=1)\n",
    "y = new_data['Disease']"
   ]
  },
  {
   "cell_type": "markdown",
   "metadata": {},
   "source": [
    "**Splitting the data into features (X) and target variable (y)**"
   ]
  },
  {
   "cell_type": "code",
   "execution_count": 126,
   "metadata": {
    "execution": {
     "iopub.execute_input": "2024-12-21T14:17:20.789065Z",
     "iopub.status.busy": "2024-12-21T14:17:20.788598Z",
     "iopub.status.idle": "2024-12-21T14:17:20.817809Z",
     "shell.execute_reply": "2024-12-21T14:17:20.816576Z",
     "shell.execute_reply.started": "2024-12-21T14:17:20.789017Z"
    },
    "trusted": true
   },
   "outputs": [],
   "source": [
    "X_train, X_test, y_train, y_test = train_test_split(X, y, test_size=0.2, random_state=42)"
   ]
  },
  {
   "cell_type": "markdown",
   "metadata": {},
   "source": [
    "**Initializing and fitting the logistic regression model**"
   ]
  },
  {
   "cell_type": "code",
   "execution_count": 127,
   "metadata": {
    "execution": {
     "iopub.execute_input": "2024-12-21T14:17:20.819854Z",
     "iopub.status.busy": "2024-12-21T14:17:20.819421Z",
     "iopub.status.idle": "2024-12-21T14:17:21.804787Z",
     "shell.execute_reply": "2024-12-21T14:17:21.802688Z",
     "shell.execute_reply.started": "2024-12-21T14:17:20.819816Z"
    },
    "trusted": true
   },
   "outputs": [
    {
     "data": {
      "text/html": [
       "<style>#sk-container-id-5 {color: black;background-color: white;}#sk-container-id-5 pre{padding: 0;}#sk-container-id-5 div.sk-toggleable {background-color: white;}#sk-container-id-5 label.sk-toggleable__label {cursor: pointer;display: block;width: 100%;margin-bottom: 0;padding: 0.3em;box-sizing: border-box;text-align: center;}#sk-container-id-5 label.sk-toggleable__label-arrow:before {content: \"▸\";float: left;margin-right: 0.25em;color: #696969;}#sk-container-id-5 label.sk-toggleable__label-arrow:hover:before {color: black;}#sk-container-id-5 div.sk-estimator:hover label.sk-toggleable__label-arrow:before {color: black;}#sk-container-id-5 div.sk-toggleable__content {max-height: 0;max-width: 0;overflow: hidden;text-align: left;background-color: #f0f8ff;}#sk-container-id-5 div.sk-toggleable__content pre {margin: 0.2em;color: black;border-radius: 0.25em;background-color: #f0f8ff;}#sk-container-id-5 input.sk-toggleable__control:checked~div.sk-toggleable__content {max-height: 200px;max-width: 100%;overflow: auto;}#sk-container-id-5 input.sk-toggleable__control:checked~label.sk-toggleable__label-arrow:before {content: \"▾\";}#sk-container-id-5 div.sk-estimator input.sk-toggleable__control:checked~label.sk-toggleable__label {background-color: #d4ebff;}#sk-container-id-5 div.sk-label input.sk-toggleable__control:checked~label.sk-toggleable__label {background-color: #d4ebff;}#sk-container-id-5 input.sk-hidden--visually {border: 0;clip: rect(1px 1px 1px 1px);clip: rect(1px, 1px, 1px, 1px);height: 1px;margin: -1px;overflow: hidden;padding: 0;position: absolute;width: 1px;}#sk-container-id-5 div.sk-estimator {font-family: monospace;background-color: #f0f8ff;border: 1px dotted black;border-radius: 0.25em;box-sizing: border-box;margin-bottom: 0.5em;}#sk-container-id-5 div.sk-estimator:hover {background-color: #d4ebff;}#sk-container-id-5 div.sk-parallel-item::after {content: \"\";width: 100%;border-bottom: 1px solid gray;flex-grow: 1;}#sk-container-id-5 div.sk-label:hover label.sk-toggleable__label {background-color: #d4ebff;}#sk-container-id-5 div.sk-serial::before {content: \"\";position: absolute;border-left: 1px solid gray;box-sizing: border-box;top: 0;bottom: 0;left: 50%;z-index: 0;}#sk-container-id-5 div.sk-serial {display: flex;flex-direction: column;align-items: center;background-color: white;padding-right: 0.2em;padding-left: 0.2em;position: relative;}#sk-container-id-5 div.sk-item {position: relative;z-index: 1;}#sk-container-id-5 div.sk-parallel {display: flex;align-items: stretch;justify-content: center;background-color: white;position: relative;}#sk-container-id-5 div.sk-item::before, #sk-container-id-5 div.sk-parallel-item::before {content: \"\";position: absolute;border-left: 1px solid gray;box-sizing: border-box;top: 0;bottom: 0;left: 50%;z-index: -1;}#sk-container-id-5 div.sk-parallel-item {display: flex;flex-direction: column;z-index: 1;position: relative;background-color: white;}#sk-container-id-5 div.sk-parallel-item:first-child::after {align-self: flex-end;width: 50%;}#sk-container-id-5 div.sk-parallel-item:last-child::after {align-self: flex-start;width: 50%;}#sk-container-id-5 div.sk-parallel-item:only-child::after {width: 0;}#sk-container-id-5 div.sk-dashed-wrapped {border: 1px dashed gray;margin: 0 0.4em 0.5em 0.4em;box-sizing: border-box;padding-bottom: 0.4em;background-color: white;}#sk-container-id-5 div.sk-label label {font-family: monospace;font-weight: bold;display: inline-block;line-height: 1.2em;}#sk-container-id-5 div.sk-label-container {text-align: center;}#sk-container-id-5 div.sk-container {/* jupyter's `normalize.less` sets `[hidden] { display: none; }` but bootstrap.min.css set `[hidden] { display: none !important; }` so we also need the `!important` here to be able to override the default hidden behavior on the sphinx rendered scikit-learn.org. See: https://github.com/scikit-learn/scikit-learn/issues/21755 */display: inline-block !important;position: relative;}#sk-container-id-5 div.sk-text-repr-fallback {display: none;}</style><div id=\"sk-container-id-5\" class=\"sk-top-container\"><div class=\"sk-text-repr-fallback\"><pre>LogisticRegression()</pre><b>In a Jupyter environment, please rerun this cell to show the HTML representation or trust the notebook. <br />On GitHub, the HTML representation is unable to render, please try loading this page with nbviewer.org.</b></div><div class=\"sk-container\" hidden><div class=\"sk-item\"><div class=\"sk-estimator sk-toggleable\"><input class=\"sk-toggleable__control sk-hidden--visually\" id=\"sk-estimator-id-5\" type=\"checkbox\" checked><label for=\"sk-estimator-id-5\" class=\"sk-toggleable__label sk-toggleable__label-arrow\">LogisticRegression</label><div class=\"sk-toggleable__content\"><pre>LogisticRegression()</pre></div></div></div></div></div>"
      ],
      "text/plain": [
       "LogisticRegression()"
      ]
     },
     "execution_count": 127,
     "metadata": {},
     "output_type": "execute_result"
    }
   ],
   "source": [
    "model = LogisticRegression()\n",
    "model.fit(X_train, y_train)"
   ]
  },
  {
   "cell_type": "markdown",
   "metadata": {},
   "source": [
    "**Predicting on the testing set**"
   ]
  },
  {
   "cell_type": "code",
   "execution_count": 128,
   "metadata": {
    "execution": {
     "iopub.execute_input": "2024-12-21T14:17:21.806835Z",
     "iopub.status.busy": "2024-12-21T14:17:21.806305Z",
     "iopub.status.idle": "2024-12-21T14:17:21.826796Z",
     "shell.execute_reply": "2024-12-21T14:17:21.824995Z",
     "shell.execute_reply.started": "2024-12-21T14:17:21.806789Z"
    },
    "trusted": true
   },
   "outputs": [],
   "source": [
    "y_pred = model.predict(X_test)"
   ]
  },
  {
   "cell_type": "markdown",
   "metadata": {},
   "source": [
    "**Calculating accuracy**"
   ]
  },
  {
   "cell_type": "code",
   "execution_count": 129,
   "metadata": {
    "execution": {
     "iopub.execute_input": "2024-12-21T14:17:21.830039Z",
     "iopub.status.busy": "2024-12-21T14:17:21.829550Z",
     "iopub.status.idle": "2024-12-21T14:17:21.851509Z",
     "shell.execute_reply": "2024-12-21T14:17:21.848735Z",
     "shell.execute_reply.started": "2024-12-21T14:17:21.830001Z"
    },
    "trusted": true
   },
   "outputs": [
    {
     "name": "stdout",
     "output_type": "stream",
     "text": [
      "Accuracy: 1.0\n"
     ]
    }
   ],
   "source": [
    "accuracy = accuracy_score(y_test, y_pred)\n",
    "print(\"Accuracy:\", accuracy)"
   ]
  },
  {
   "cell_type": "markdown",
   "metadata": {},
   "source": [
    "**An accuracy of 1.0 (or 100%) suggests that the model is predicting perfectly on the test set. While achieving perfect accuracy can be a good sign, especially in simpler datasets, it's also worth considering the possibility of overfitting.**"
   ]
  },
  {
   "cell_type": "markdown",
   "metadata": {},
   "source": [
    "**calculate precision, recall, and F1-score for each class. These metrics are useful for understanding the performance of a classification model, especially when dealing with imbalanced classes.**"
   ]
  },
  {
   "cell_type": "code",
   "execution_count": 130,
   "metadata": {
    "execution": {
     "iopub.execute_input": "2024-12-21T14:17:21.857659Z",
     "iopub.status.busy": "2024-12-21T14:17:21.856017Z",
     "iopub.status.idle": "2024-12-21T14:17:21.960950Z",
     "shell.execute_reply": "2024-12-21T14:17:21.959823Z",
     "shell.execute_reply.started": "2024-12-21T14:17:21.857593Z"
    },
    "trusted": true
   },
   "outputs": [
    {
     "name": "stdout",
     "output_type": "stream",
     "text": [
      "                                      Class  Precision  Recall  F1-score\n",
      "0   (vertigo) Paroymsal  Positional Vertigo        1.0     1.0       1.0\n",
      "1                                      AIDS        1.0     1.0       1.0\n",
      "2                                      Acne        1.0     1.0       1.0\n",
      "3                       Alcoholic hepatitis        1.0     1.0       1.0\n",
      "4                                   Allergy        1.0     1.0       1.0\n",
      "5                                 Arthritis        1.0     1.0       1.0\n",
      "6                          Bronchial Asthma        1.0     1.0       1.0\n",
      "7                      Cervical spondylosis        1.0     1.0       1.0\n",
      "8                               Chicken pox        1.0     1.0       1.0\n",
      "9                       Chronic cholestasis        1.0     1.0       1.0\n",
      "10                              Common Cold        1.0     1.0       1.0\n",
      "11                                   Dengue        1.0     1.0       1.0\n",
      "12                                Diabetes         1.0     1.0       1.0\n",
      "13             Dimorphic hemmorhoids(piles)        1.0     1.0       1.0\n",
      "14                            Drug Reaction        1.0     1.0       1.0\n",
      "15                         Fungal infection        1.0     1.0       1.0\n",
      "16                                     GERD        1.0     1.0       1.0\n",
      "17                          Gastroenteritis        1.0     1.0       1.0\n",
      "18                             Heart attack        1.0     1.0       1.0\n",
      "19                              Hepatitis B        1.0     1.0       1.0\n",
      "20                              Hepatitis C        1.0     1.0       1.0\n",
      "21                              Hepatitis D        1.0     1.0       1.0\n",
      "22                              Hepatitis E        1.0     1.0       1.0\n",
      "23                            Hypertension         1.0     1.0       1.0\n",
      "24                          Hyperthyroidism        1.0     1.0       1.0\n",
      "25                             Hypoglycemia        1.0     1.0       1.0\n",
      "26                           Hypothyroidism        1.0     1.0       1.0\n",
      "27                                 Impetigo        1.0     1.0       1.0\n",
      "28                                 Jaundice        1.0     1.0       1.0\n",
      "29                                  Malaria        1.0     1.0       1.0\n",
      "30                                 Migraine        1.0     1.0       1.0\n",
      "31                          Osteoarthristis        1.0     1.0       1.0\n",
      "32             Paralysis (brain hemorrhage)        1.0     1.0       1.0\n",
      "33                      Peptic ulcer diseae        1.0     1.0       1.0\n",
      "34                                Pneumonia        1.0     1.0       1.0\n",
      "35                                Psoriasis        1.0     1.0       1.0\n",
      "36                             Tuberculosis        1.0     1.0       1.0\n",
      "37                                  Typhoid        1.0     1.0       1.0\n",
      "38                  Urinary tract infection        1.0     1.0       1.0\n",
      "39                           Varicose veins        1.0     1.0       1.0\n",
      "40                              hepatitis A        1.0     1.0       1.0\n"
     ]
    }
   ],
   "source": [
    "from sklearn.metrics import precision_score, recall_score, f1_score\n",
    "\n",
    "# Calculate precision, recall, and F1-score for each class\n",
    "precision = precision_score(y_test, y_pred, average=None)\n",
    "recall = recall_score(y_test, y_pred, average=None)\n",
    "f1 = f1_score(y_test, y_pred, average=None)\n",
    "\n",
    "# Create a DataFrame to display the metrics\n",
    "metrics_df = pd.DataFrame({'Class': model.classes_,\n",
    "                           'Precision': precision,\n",
    "                           'Recall': recall,\n",
    "                           'F1-score': f1})\n",
    "\n",
    "print(metrics_df)\n"
   ]
  },
  {
   "cell_type": "markdown",
   "metadata": {},
   "source": [
    "**It seems that your model is performing exceptionally well, achieving perfect precision, recall, and F1-score for each class. This indicates that the model is predicting all instances correctly for each class, with no false positives or false negatives.**"
   ]
  },
  {
   "cell_type": "markdown",
   "metadata": {},
   "source": [
    "**Cross-validation is a robust technique to evaluate a model's performance by splitting the data into multiple train-test sets. Here's how you can perform k-fold cross-validation:**"
   ]
  },
  {
   "cell_type": "code",
   "execution_count": 131,
   "metadata": {
    "execution": {
     "iopub.execute_input": "2024-12-21T14:17:21.963849Z",
     "iopub.status.busy": "2024-12-21T14:17:21.963492Z",
     "iopub.status.idle": "2024-12-21T14:17:25.372337Z",
     "shell.execute_reply": "2024-12-21T14:17:25.371144Z",
     "shell.execute_reply.started": "2024-12-21T14:17:21.963808Z"
    },
    "trusted": true
   },
   "outputs": [
    {
     "name": "stdout",
     "output_type": "stream",
     "text": [
      "Cross-Validation Accuracy for each fold:\n",
      "Fold 1: 1.0\n",
      "Fold 2: 1.0\n",
      "Fold 3: 1.0\n",
      "Fold 4: 1.0\n",
      "Fold 5: 1.0\n",
      "\n",
      "Mean Cross-Validation Accuracy: 1.0\n",
      "Standard Deviation of Cross-Validation Accuracy: 0.0\n"
     ]
    }
   ],
   "source": [
    "from sklearn.model_selection import cross_val_score, KFold\n",
    "\n",
    "# Define the number of folds for cross-validation\n",
    "k_folds = 5\n",
    "\n",
    "# Initialize KFold cross-validation\n",
    "kf = KFold(n_splits=k_folds, shuffle=True, random_state=42)\n",
    "\n",
    "# Perform cross-validation\n",
    "cv_accuracy = cross_val_score(model, X, y, cv=kf, scoring='accuracy')\n",
    "\n",
    "# Print the accuracy for each fold\n",
    "print(\"Cross-Validation Accuracy for each fold:\")\n",
    "for i, accuracy in enumerate(cv_accuracy, 1):\n",
    "    print(f\"Fold {i}: {accuracy}\")\n",
    "\n",
    "# Calculate the mean and standard deviation of the cross-validation accuracy\n",
    "mean_cv_accuracy = cv_accuracy.mean()\n",
    "std_cv_accuracy = cv_accuracy.std()\n",
    "print(f\"\\nMean Cross-Validation Accuracy: {mean_cv_accuracy}\")\n",
    "print(f\"Standard Deviation of Cross-Validation Accuracy: {std_cv_accuracy}\")\n"
   ]
  },
  {
   "cell_type": "markdown",
   "metadata": {},
   "source": []
  },
  {
   "cell_type": "code",
   "execution_count": 132,
   "metadata": {
    "execution": {
     "iopub.execute_input": "2024-12-21T14:17:25.374122Z",
     "iopub.status.busy": "2024-12-21T14:17:25.373668Z",
     "iopub.status.idle": "2024-12-21T14:17:25.387468Z",
     "shell.execute_reply": "2024-12-21T14:17:25.385226Z",
     "shell.execute_reply.started": "2024-12-21T14:17:25.374084Z"
    },
    "trusted": true
   },
   "outputs": [
    {
     "data": {
      "text/plain": [
       "['Doctor.joblib']"
      ]
     },
     "execution_count": 132,
     "metadata": {},
     "output_type": "execute_result"
    }
   ],
   "source": [
    "import joblib\n",
    "\n",
    "joblib.dump(model, 'Doctor.joblib')"
   ]
  },
  {
   "cell_type": "code",
   "execution_count": 133,
   "metadata": {
    "execution": {
     "iopub.execute_input": "2024-12-21T14:17:25.390144Z",
     "iopub.status.busy": "2024-12-21T14:17:25.389670Z",
     "iopub.status.idle": "2024-12-21T14:17:25.405867Z",
     "shell.execute_reply": "2024-12-21T14:17:25.404105Z",
     "shell.execute_reply.started": "2024-12-21T14:17:25.390105Z"
    },
    "trusted": true
   },
   "outputs": [
    {
     "name": "stdout",
     "output_type": "stream",
     "text": [
      "['itching', 'skin_rash', 'nodal_skin_eruptions', 'dischromic _patches', 'continuous_sneezing', 'shivering', 'chills', 'watering_from_eyes', 'stomach_pain', 'acidity', 'ulcers_on_tongue', 'vomiting', 'cough', 'chest_pain', 'yellowish_skin', 'nausea', 'loss_of_appetite', 'abdominal_pain', 'yellowing_of_eyes', 'burning_micturition', 'spotting_ urination', 'passage_of_gases', 'internal_itching', 'indigestion', 'muscle_wasting', 'patches_in_throat', 'high_fever', 'extra_marital_contacts', 'fatigue', 'weight_loss', 'restlessness', 'lethargy', 'irregular_sugar_level', 'blurred_and_distorted_vision', 'obesity', 'excessive_hunger', 'increased_appetite', 'polyuria', 'sunken_eyes', 'dehydration', 'diarrhoea', 'breathlessness', 'family_history', 'mucoid_sputum', 'headache', 'dizziness', 'loss_of_balance', 'lack_of_concentration', 'stiff_neck', 'depression', 'irritability', 'visual_disturbances', 'back_pain', 'weakness_in_limbs', 'neck_pain', 'weakness_of_one_body_side', 'altered_sensorium', 'dark_urine', 'sweating', 'muscle_pain', 'mild_fever', 'swelled_lymph_nodes', 'malaise', 'red_spots_over_body', 'joint_pain', 'pain_behind_the_eyes', 'constipation', 'toxic_look_(typhos)', 'belly_pain', 'yellow_urine', 'receiving_blood_transfusion', 'receiving_unsterile_injections', 'coma', 'stomach_bleeding', 'acute_liver_failure', 'swelling_of_stomach', 'distention_of_abdomen', 'history_of_alcohol_consumption', 'fluid_overload', 'phlegm', 'blood_in_sputum', 'throat_irritation', 'redness_of_eyes', 'sinus_pressure', 'runny_nose', 'congestion', 'loss_of_smell', 'fast_heart_rate', 'rusty_sputum', 'pain_during_bowel_movements', 'pain_in_anal_region', 'bloody_stool', 'irritation_in_anus', 'cramps', 'bruising', 'swollen_legs', 'swollen_blood_vessels', 'prominent_veins_on_calf', 'weight_gain', 'cold_hands_and_feets', 'mood_swings', 'puffy_face_and_eyes', 'enlarged_thyroid', 'brittle_nails', 'swollen_extremeties', 'abnormal_menstruation', 'muscle_weakness', 'anxiety', 'slurred_speech', 'palpitations', 'drying_and_tingling_lips', 'knee_pain', 'hip_joint_pain', 'swelling_joints', 'painful_walking', 'movement_stiffness', 'spinning_movements', 'unsteadiness', 'pus_filled_pimples', 'blackheads', 'scurring', 'bladder_discomfort', 'foul_smell_of urine', 'continuous_feel_of_urine', 'skin_peeling', 'silver_like_dusting', 'small_dents_in_nails', 'inflammatory_nails', 'blister', 'red_sore_around_nose', 'yellow_crust_ooze']\n"
     ]
    }
   ],
   "source": [
    "arr=[]\n",
    "for col in X.columns:\n",
    "    # print(col)\n",
    "    arr.append(col)\n",
    "print(arr)"
   ]
  },
  {
   "cell_type": "code",
   "execution_count": 135,
   "metadata": {
    "execution": {
     "iopub.execute_input": "2024-12-21T14:17:46.772070Z",
     "iopub.status.busy": "2024-12-21T14:17:46.771701Z",
     "iopub.status.idle": "2024-12-21T14:17:46.802903Z",
     "shell.execute_reply": "2024-12-21T14:17:46.801698Z",
     "shell.execute_reply.started": "2024-12-21T14:17:46.772045Z"
    },
    "trusted": true
   },
   "outputs": [
    {
     "name": "stdout",
     "output_type": "stream",
     "text": [
      "Length of Avaliable Symptoms: 131\n",
      "Bronchial Asthma\n",
      "Pulmonologist\n"
     ]
    }
   ],
   "source": [
    "import joblib\n",
    "loaded_model = joblib.load('/kaggle/working/Doctor.joblib')\n",
    "doctors = pd.read_csv('/kaggle/input/doctor-specialist-recommendation-system/Doctor_Versus_Disease.csv', encoding='ISO-8859-1')\n",
    "Symps=['itching', 'skin_rash', 'nodal_skin_eruptions', \n",
    "       'dischromic _patches', 'continuous_sneezing', 'shivering', 'chills', 'watering_from_eyes',\n",
    "         'stomach_pain', 'acidity', 'ulcers_on_tongue', 'vomiting', 'cough', \n",
    "       'chest_pain', 'yellowish_skin', 'nausea', 'loss_of_appetite', 'abdominal_pain', 'yellowing_of_eyes',\n",
    "         'burning_micturition', 'spotting_ urination', 'passage_of_gases',\n",
    "         'internal_itching', 'indigestion', 'muscle_wasting', 'patches_in_throat', 'high_fever',\n",
    "           'extra_marital_contacts', 'fatigue', 'weight_loss', 'restlessness', 'lethargy', \n",
    "         'irregular_sugar_level', 'blurred_and_distorted_vision', 'obesity', 'excessive_hunger', \n",
    "         'increased_appetite', 'polyuria', 'sunken_eyes', 'dehydration', 'diarrhoea', \n",
    "         'breathlessness', 'family_history', 'mucoid_sputum', 'headache', 'dizziness', 'loss_of_balance',\n",
    "           'lack_of_concentration', 'stiff_neck', 'depression', 'irritability', \n",
    "         'visual_disturbances', 'back_pain', 'weakness_in_limbs', 'neck_pain', 'weakness_of_one_body_side',\n",
    "           'altered_sensorium', 'dark_urine', 'sweating', 'muscle_pain', \n",
    "         'mild_fever', 'swelled_lymph_nodes', 'malaise', 'red_spots_over_body', 'joint_pain', \n",
    "         'pain_behind_the_eyes', 'constipation', 'toxic_look_(typhos)', 'belly_pain', \n",
    "         'yellow_urine', 'receiving_blood_transfusion', 'receiving_unsterile_injections', 'coma',\n",
    "           'stomach_bleeding', 'acute_liver_failure', 'swelling_of_stomach', \n",
    "         'distention_of_abdomen', 'history_of_alcohol_consumption', 'fluid_overload', 'phlegm', \n",
    "         'blood_in_sputum', 'throat_irritation', 'redness_of_eyes', 'sinus_pressure', \n",
    "         'runny_nose', 'congestion', 'loss_of_smell', 'fast_heart_rate', 'rusty_sputum',\n",
    "           'pain_during_bowel_movements', 'pain_in_anal_region', 'bloody_stool', \n",
    "         'irritation_in_anus', 'cramps', 'bruising', 'swollen_legs', 'swollen_blood_vessels', \n",
    "         'prominent_veins_on_calf', 'weight_gain', 'cold_hands_and_feets', 'mood_swings', \n",
    "         'puffy_face_and_eyes', 'enlarged_thyroid', 'brittle_nails', 'swollen_extremeties', \n",
    "         'abnormal_menstruation', 'muscle_weakness', 'anxiety', 'slurred_speech', \n",
    "         'palpitations', 'drying_and_tingling_lips', 'knee_pain', 'hip_joint_pain', 'swelling_joints',\n",
    "           'painful_walking', 'movement_stiffness', 'spinning_movements', \n",
    "         'unsteadiness', 'pus_filled_pimples', 'blackheads', 'scurring', 'bladder_discomfort',\n",
    "           'foul_smell_of urine', 'continuous_feel_of_urine', 'skin_peeling', \n",
    "         'silver_like_dusting', 'small_dents_in_nails', 'inflammatory_nails', 'blister',\n",
    "           'red_sore_around_nose', 'yellow_crust_ooze']\n",
    "# print(\"Length of Avaliable Symptoms:\",len(Symps))\n",
    "\n",
    "# Function to predict disease probabilities\n",
    "def predict_disease(symptoms):\n",
    "    # Create an empty DataFrame with the same columns as X\n",
    "    input_data = pd.DataFrame(columns=Symps)\n",
    "    pd.set_option('future.no_silent_downcasting', True)\n",
    "    # Set the symptoms provided by the user\n",
    "    for symptom in symptoms:\n",
    "        if symptom in input_data.columns:\n",
    "            input_data.loc[0, symptom] = 1\n",
    "    \n",
    "    # Fill any missing values with 0\n",
    "    input_data = input_data.fillna(0)\n",
    "    # Predict probabilities\n",
    "    disease = loaded_model.predict(input_data)[0]\n",
    "    doctor = doctors.loc[doctors[\"Drug Reaction\"] == disease, \"Allergist\"].tolist()[0]\n",
    "    \n",
    "    return disease,doctor\n",
    "\n",
    "# Example usage\n",
    "symptoms = [\"fatigue\",\"cough\",\"high_fever\",\"breathlessness\",\"family_history\",\"mucoid_sputum\"]  # Replace with actual symptom names from your dataset\n",
    "output=predict_disease(symptoms)\n",
    "print(\"the diesease is :\",output[0])\n",
    "print(\"the Doctotor is :\",output[1])\n"
   ]
  }
 ],
 "metadata": {
  "kaggle": {
   "accelerator": "none",
   "dataSources": [
    {
     "datasetId": 3417941,
     "sourceId": 5969573,
     "sourceType": "datasetVersion"
    }
   ],
   "dockerImageVersionId": 30646,
   "isGpuEnabled": false,
   "isInternetEnabled": true,
   "language": "python",
   "sourceType": "notebook"
  },
  "kernelspec": {
   "display_name": "Python 3",
   "language": "python",
   "name": "python3"
  },
  "language_info": {
   "codemirror_mode": {
    "name": "ipython",
    "version": 3
   },
   "file_extension": ".py",
   "mimetype": "text/x-python",
   "name": "python",
   "nbconvert_exporter": "python",
   "pygments_lexer": "ipython3",
   "version": "3.11.9"
  }
 },
 "nbformat": 4,
 "nbformat_minor": 4
}
